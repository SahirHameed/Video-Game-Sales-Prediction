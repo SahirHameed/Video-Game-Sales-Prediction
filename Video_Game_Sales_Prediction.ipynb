{
 "cells": [
  {
   "cell_type": "markdown",
   "id": "0fdb164f-2385-4a38-8430-1ac7b96017a8",
   "metadata": {},
   "source": [
    "# Video Game Sales Prediction"
   ]
  },
  {
   "cell_type": "markdown",
   "id": "97a14284-2424-45ba-b2ac-e5e8e60f6661",
   "metadata": {},
   "source": [
    "## Part 0: Introduction"
   ]
  },
  {
   "cell_type": "markdown",
   "id": "dd631843-2dad-4de3-ab39-e789ccb8c37d",
   "metadata": {},
   "source": [
    "This dataset, inspired by Gregory Smith's web scrape of VGChartz, extends video game sales data with additional variables sourced from Metacritic. It includes information on game sales by region, critic and user scores, and game metadata such as platform, genre, and ESRB ratings. "
   ]
  },
  {
   "cell_type": "markdown",
   "id": "408da7b0-15df-4716-b6ec-ac328f852573",
   "metadata": {},
   "source": [
    "### Objective: To create a classification model that can predict the global sale of a video game (Note the target column in the dataset is Global_Sales"
   ]
  },
  {
   "cell_type": "markdown",
   "id": "c6d5beaf-06df-4a38-a662-167908073233",
   "metadata": {},
   "source": [
    "We will follow the following steps:\n",
    "1. Read the Data\n",
    "2. Reduce the data by\n",
    "   - Removing duplicates\n",
    "   - \n"
   ]
  },
  {
   "cell_type": "markdown",
   "id": "201768ce-0f93-4d5b-ae1a-9652c7b743fd",
   "metadata": {},
   "source": [
    "# Imports"
   ]
  },
  {
   "cell_type": "code",
   "execution_count": 161,
   "id": "e774703a-21af-4c8f-81e3-124fec7cb34a",
   "metadata": {},
   "outputs": [],
   "source": [
    "import pandas as pd"
   ]
  },
  {
   "cell_type": "markdown",
   "id": "4d9a994e-47f0-461e-9933-d2a6ae8b6aa3",
   "metadata": {},
   "source": [
    "# Reading and Understanding the DataSet"
   ]
  },
  {
   "cell_type": "code",
   "execution_count": 163,
   "id": "8a9657b7-9155-4061-8188-bc2149b63fbd",
   "metadata": {},
   "outputs": [
    {
     "data": {
      "text/plain": [
       "(16719, 16)"
      ]
     },
     "execution_count": 163,
     "metadata": {},
     "output_type": "execute_result"
    }
   ],
   "source": [
    "file_path = 'Video_Games_Sales_as_at_22_Dec_2016.csv'\n",
    "df = pd.read_csv(file_path)\n",
    "\n",
    "df.shape"
   ]
  },
  {
   "cell_type": "code",
   "execution_count": 164,
   "id": "8615ee53-ac69-4b88-aa5c-3a662a32b383",
   "metadata": {},
   "outputs": [
    {
     "name": "stdout",
     "output_type": "stream",
     "text": [
      "<class 'pandas.core.frame.DataFrame'>\n",
      "RangeIndex: 16719 entries, 0 to 16718\n",
      "Data columns (total 16 columns):\n",
      " #   Column           Non-Null Count  Dtype  \n",
      "---  ------           --------------  -----  \n",
      " 0   Name             16717 non-null  object \n",
      " 1   Platform         16719 non-null  object \n",
      " 2   Year_of_Release  16450 non-null  float64\n",
      " 3   Genre            16717 non-null  object \n",
      " 4   Publisher        16665 non-null  object \n",
      " 5   NA_Sales         16719 non-null  float64\n",
      " 6   EU_Sales         16719 non-null  float64\n",
      " 7   JP_Sales         16719 non-null  float64\n",
      " 8   Other_Sales      16719 non-null  float64\n",
      " 9   Global_Sales     16719 non-null  float64\n",
      " 10  Critic_Score     8137 non-null   float64\n",
      " 11  Critic_Count     8137 non-null   float64\n",
      " 12  User_Score       10015 non-null  object \n",
      " 13  User_Count       7590 non-null   float64\n",
      " 14  Developer        10096 non-null  object \n",
      " 15  Rating           9950 non-null   object \n",
      "dtypes: float64(9), object(7)\n",
      "memory usage: 2.0+ MB\n"
     ]
    }
   ],
   "source": [
    "df.info()"
   ]
  },
  {
   "cell_type": "markdown",
   "id": "84fce7b0-405a-411e-a9a8-81b4951721ca",
   "metadata": {},
   "source": [
    "# Data Preprocessing"
   ]
  },
  {
   "cell_type": "code",
   "execution_count": 166,
   "id": "2ed1a3fa-76d7-4b8e-91e2-b69ec2fde913",
   "metadata": {},
   "outputs": [
    {
     "name": "stdout",
     "output_type": "stream",
     "text": [
      "\n",
      "Percentage of missing values per column:\n",
      "Name                0.011962\n",
      "Platform            0.000000\n",
      "Year_of_Release     1.608948\n",
      "Genre               0.011962\n",
      "Publisher           0.322986\n",
      "NA_Sales            0.000000\n",
      "EU_Sales            0.000000\n",
      "JP_Sales            0.000000\n",
      "Other_Sales         0.000000\n",
      "Global_Sales        0.000000\n",
      "Critic_Score       51.330821\n",
      "Critic_Count       51.330821\n",
      "User_Score         40.098092\n",
      "User_Count         54.602548\n",
      "Developer          39.613613\n",
      "Rating             40.486871\n",
      "dtype: float64\n"
     ]
    }
   ],
   "source": [
    "missing_percentage = (df.isnull().sum() / len(df)) * 100\n",
    "print(\"\\nPercentage of missing values per column:\")\n",
    "print(missing_percentage)"
   ]
  },
  {
   "cell_type": "code",
   "execution_count": 167,
   "id": "5128524c-ee44-4e8d-b7ab-251209b0bd8f",
   "metadata": {},
   "outputs": [
    {
     "name": "stdout",
     "output_type": "stream",
     "text": [
      "\n",
      "Dataset info after dropping specified columns:\n",
      "<class 'pandas.core.frame.DataFrame'>\n",
      "Index: 16416 entries, 0 to 16718\n",
      "Data columns (total 16 columns):\n",
      " #   Column           Non-Null Count  Dtype  \n",
      "---  ------           --------------  -----  \n",
      " 0   Name             16416 non-null  object \n",
      " 1   Platform         16416 non-null  object \n",
      " 2   Year_of_Release  16416 non-null  float64\n",
      " 3   Genre            16416 non-null  object \n",
      " 4   Publisher        16416 non-null  object \n",
      " 5   NA_Sales         16416 non-null  float64\n",
      " 6   EU_Sales         16416 non-null  float64\n",
      " 7   JP_Sales         16416 non-null  float64\n",
      " 8   Other_Sales      16416 non-null  float64\n",
      " 9   Global_Sales     16416 non-null  float64\n",
      " 10  Critic_Score     7982 non-null   float64\n",
      " 11  Critic_Count     7982 non-null   float64\n",
      " 12  User_Score       9837 non-null   object \n",
      " 13  User_Count       7461 non-null   float64\n",
      " 14  Developer        9904 non-null   object \n",
      " 15  Rating           9767 non-null   object \n",
      "dtypes: float64(9), object(7)\n",
      "memory usage: 2.1+ MB\n"
     ]
    }
   ],
   "source": [
    "# Drop rows where any of the specified columns have missing values\n",
    "columns_to_drop = ['Name', 'Year_of_Release', 'Genre', 'Publisher']\n",
    "df = df.dropna(subset=columns_to_drop)\n",
    "\n",
    "# Verify the dataset after dropping columns\n",
    "print(\"\\nDataset info after dropping specified columns:\")\n",
    "df.info()\n"
   ]
  },
  {
   "cell_type": "code",
   "execution_count": 168,
   "id": "5c875e4e-2b9b-4591-890f-213f15c2cb79",
   "metadata": {},
   "outputs": [
    {
     "name": "stdout",
     "output_type": "stream",
     "text": [
      "\n",
      "Final dataset info after preprocessing:\n",
      "<class 'pandas.core.frame.DataFrame'>\n",
      "Index: 16416 entries, 0 to 16718\n",
      "Data columns (total 16 columns):\n",
      " #   Column           Non-Null Count  Dtype  \n",
      "---  ------           --------------  -----  \n",
      " 0   Name             16416 non-null  object \n",
      " 1   Platform         16416 non-null  object \n",
      " 2   Year_of_Release  16416 non-null  float64\n",
      " 3   Genre            16416 non-null  object \n",
      " 4   Publisher        16416 non-null  object \n",
      " 5   NA_Sales         16416 non-null  float64\n",
      " 6   EU_Sales         16416 non-null  float64\n",
      " 7   JP_Sales         16416 non-null  float64\n",
      " 8   Other_Sales      16416 non-null  float64\n",
      " 9   Global_Sales     16416 non-null  float64\n",
      " 10  Critic_Score     7982 non-null   float64\n",
      " 11  Critic_Count     7982 non-null   float64\n",
      " 12  User_Score       9837 non-null   object \n",
      " 13  User_Count       7461 non-null   float64\n",
      " 14  Developer        9904 non-null   object \n",
      " 15  Rating           9767 non-null   object \n",
      "dtypes: float64(9), object(7)\n",
      "memory usage: 2.1+ MB\n"
     ]
    }
   ],
   "source": [
    "\n",
    "# # Step 2: Impute missing values for critical columns\n",
    "# numerical_cols = ['Critic_Score', 'Critic_Count', 'User_Score', 'User_Count']\n",
    "# for col in numerical_cols:\n",
    "#     if col in df.columns:\n",
    "#         df[col] = df[col].fillna(df[col].median())\n",
    "\n",
    "# categorical_cols = ['Publisher', 'Developer', 'Rating']\n",
    "# for col in categorical_cols:\n",
    "#     if col in df.columns:\n",
    "#         df[col] = df[col].fillna(df[col].mode()[0])\n",
    "\n",
    "# Step 3: Verify the final dataset\n",
    "print(\"\\nFinal dataset info after preprocessing:\")\n",
    "df.info()\n"
   ]
  },
  {
   "cell_type": "code",
   "execution_count": 169,
   "id": "9db5d1c1-1ff0-4f13-8e17-df9b3b64669e",
   "metadata": {},
   "outputs": [
    {
     "name": "stdout",
     "output_type": "stream",
     "text": [
      "<class 'pandas.core.frame.DataFrame'>\n",
      "Index: 16416 entries, 0 to 16718\n",
      "Data columns (total 9 columns):\n",
      " #   Column           Non-Null Count  Dtype  \n",
      "---  ------           --------------  -----  \n",
      " 0   Platform         16416 non-null  object \n",
      " 1   Year_of_Release  16416 non-null  float64\n",
      " 2   Genre            16416 non-null  object \n",
      " 3   Publisher        16416 non-null  object \n",
      " 4   Global_Sales     16416 non-null  float64\n",
      " 5   Critic_Score     7982 non-null   float64\n",
      " 6   User_Score       9837 non-null   object \n",
      " 7   Developer        9904 non-null   object \n",
      " 8   Rating           9767 non-null   object \n",
      "dtypes: float64(3), object(6)\n",
      "memory usage: 1.3+ MB\n"
     ]
    }
   ],
   "source": [
    "# Specify the columns to drop\n",
    "columns_to_drop = ['Name', 'NA_Sales', 'EU_Sales', 'JP_Sales', 'Other_Sales', 'Critic_Count', 'User_Count']\n",
    "\n",
    "# Drop the columns from the dataset\n",
    "df = df.drop(columns=columns_to_drop, axis=1)\n",
    "\n",
    "df.info()"
   ]
  },
  {
   "cell_type": "markdown",
   "id": "d15a00c1-5a82-4f12-bc65-e7d8d4c89976",
   "metadata": {},
   "source": []
  }
 ],
 "metadata": {
  "kernelspec": {
   "display_name": "Python 3 (ipykernel)",
   "language": "python",
   "name": "python3"
  },
  "language_info": {
   "codemirror_mode": {
    "name": "ipython",
    "version": 3
   },
   "file_extension": ".py",
   "mimetype": "text/x-python",
   "name": "python",
   "nbconvert_exporter": "python",
   "pygments_lexer": "ipython3",
   "version": "3.12.4"
  }
 },
 "nbformat": 4,
 "nbformat_minor": 5
}
