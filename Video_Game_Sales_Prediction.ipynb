{
 "cells": [
  {
   "cell_type": "markdown",
   "id": "0fdb164f-2385-4a38-8430-1ac7b96017a8",
   "metadata": {},
   "source": [
    "# Video Game Sales Prediction"
   ]
  },
  {
   "cell_type": "markdown",
   "id": "97a14284-2424-45ba-b2ac-e5e8e60f6661",
   "metadata": {},
   "source": [
    "## Part 0: Introduction"
   ]
  },
  {
   "cell_type": "markdown",
   "id": "dd631843-2dad-4de3-ab39-e789ccb8c37d",
   "metadata": {},
   "source": [
    "This dataset, inspired by Gregory Smith's web scrape of VGChartz, extends video game sales data with additional variables sourced from Metacritic. It includes information on game sales by region, critic and user scores, and game metadata such as platform, genre, and ESRB ratings. "
   ]
  },
  {
   "cell_type": "markdown",
   "id": "408da7b0-15df-4716-b6ec-ac328f852573",
   "metadata": {},
   "source": [
    "### Objective: To create a classification model that can predict the global sale of a video game (Note the target column in the dataset is Global_Sales)"
   ]
  },
  {
   "cell_type": "markdown",
   "id": "c6d5beaf-06df-4a38-a662-167908073233",
   "metadata": {},
   "source": [
    "We will follow the following steps:\n",
    "1. Read the Data\n",
    "2. Reduce the data by\n",
    "   - Removing duplicates\n",
    "   - \n"
   ]
  },
  {
   "cell_type": "markdown",
   "id": "201768ce-0f93-4d5b-ae1a-9652c7b743fd",
   "metadata": {},
   "source": [
    "# Imports"
   ]
  },
  {
   "cell_type": "code",
   "execution_count": 233,
   "id": "e774703a-21af-4c8f-81e3-124fec7cb34a",
   "metadata": {},
   "outputs": [],
   "source": [
    "import pandas as pd\n",
    "import numpy as np\n",
    "import matplotlib.pyplot as plt"
   ]
  },
  {
   "cell_type": "markdown",
   "id": "4d9a994e-47f0-461e-9933-d2a6ae8b6aa3",
   "metadata": {},
   "source": [
    "# Reading and Understanding the DataSet"
   ]
  },
  {
   "cell_type": "code",
   "execution_count": 235,
   "id": "8a9657b7-9155-4061-8188-bc2149b63fbd",
   "metadata": {},
   "outputs": [
    {
     "data": {
      "text/plain": [
       "(16719, 16)"
      ]
     },
     "execution_count": 235,
     "metadata": {},
     "output_type": "execute_result"
    }
   ],
   "source": [
    "file_path = 'Video_Games_Sales_as_at_22_Dec_2016.csv'\n",
    "df = pd.read_csv(file_path)\n",
    "\n",
    "df.shape"
   ]
  },
  {
   "cell_type": "code",
   "execution_count": 236,
   "id": "8615ee53-ac69-4b88-aa5c-3a662a32b383",
   "metadata": {},
   "outputs": [
    {
     "name": "stdout",
     "output_type": "stream",
     "text": [
      "<class 'pandas.core.frame.DataFrame'>\n",
      "RangeIndex: 16719 entries, 0 to 16718\n",
      "Data columns (total 16 columns):\n",
      " #   Column           Non-Null Count  Dtype  \n",
      "---  ------           --------------  -----  \n",
      " 0   Name             16717 non-null  object \n",
      " 1   Platform         16719 non-null  object \n",
      " 2   Year_of_Release  16450 non-null  float64\n",
      " 3   Genre            16717 non-null  object \n",
      " 4   Publisher        16665 non-null  object \n",
      " 5   NA_Sales         16719 non-null  float64\n",
      " 6   EU_Sales         16719 non-null  float64\n",
      " 7   JP_Sales         16719 non-null  float64\n",
      " 8   Other_Sales      16719 non-null  float64\n",
      " 9   Global_Sales     16719 non-null  float64\n",
      " 10  Critic_Score     8137 non-null   float64\n",
      " 11  Critic_Count     8137 non-null   float64\n",
      " 12  User_Score       10015 non-null  object \n",
      " 13  User_Count       7590 non-null   float64\n",
      " 14  Developer        10096 non-null  object \n",
      " 15  Rating           9950 non-null   object \n",
      "dtypes: float64(9), object(7)\n",
      "memory usage: 2.0+ MB\n"
     ]
    }
   ],
   "source": [
    "df.info()"
   ]
  },
  {
   "cell_type": "markdown",
   "id": "84fce7b0-405a-411e-a9a8-81b4951721ca",
   "metadata": {},
   "source": [
    "# Data Preprocessing"
   ]
  },
  {
   "cell_type": "code",
   "execution_count": 238,
   "id": "802ca45d-bb0e-45d6-8ad4-b0cadefd8eed",
   "metadata": {},
   "outputs": [
    {
     "data": {
      "text/plain": [
       "(16719, 9)"
      ]
     },
     "execution_count": 238,
     "metadata": {},
     "output_type": "execute_result"
    }
   ],
   "source": [
    "columns_to_drop = ['Name', 'NA_Sales', 'EU_Sales', 'JP_Sales', 'Other_Sales', 'Critic_Count', 'User_Count']\n",
    "\n",
    "# Drop the columns from the dataset\n",
    "df = df.drop(columns=columns_to_drop, axis=1)\n",
    "\n",
    "# Verify the columns were correctly dropped\n",
    "df.shape"
   ]
  },
  {
   "cell_type": "markdown",
   "id": "bb39e7da-5e04-489c-af4b-9d41524ac67c",
   "metadata": {},
   "source": [
    "Dropped Name, NA_Sales, EU_Sales, JP_Sales, Other_Sales, Critic_Count, and User_Count as we are focused on predicting the global sales and want to test how Platform, Year of Release, Genre, Publisher, Critic Score, User Score, Developer, and Rating affect the global sales. "
   ]
  },
  {
   "cell_type": "code",
   "execution_count": 240,
   "id": "2ed1a3fa-76d7-4b8e-91e2-b69ec2fde913",
   "metadata": {},
   "outputs": [
    {
     "name": "stdout",
     "output_type": "stream",
     "text": [
      "\n",
      "Percentage of missing values per column:\n",
      "Platform            0.000000\n",
      "Year_of_Release     1.608948\n",
      "Genre               0.011962\n",
      "Publisher           0.322986\n",
      "Global_Sales        0.000000\n",
      "Critic_Score       51.330821\n",
      "User_Score         40.098092\n",
      "Developer          39.613613\n",
      "Rating             40.486871\n",
      "dtype: float64\n"
     ]
    }
   ],
   "source": [
    "missing_percentage = (df.isnull().sum() / len(df)) * 100\n",
    "print(\"\\nPercentage of missing values per column:\")\n",
    "print(missing_percentage)"
   ]
  },
  {
   "cell_type": "code",
   "execution_count": 241,
   "id": "5128524c-ee44-4e8d-b7ab-251209b0bd8f",
   "metadata": {},
   "outputs": [
    {
     "data": {
      "text/plain": [
       "(7877, 9)"
      ]
     },
     "execution_count": 241,
     "metadata": {},
     "output_type": "execute_result"
    }
   ],
   "source": [
    "df.dropna(inplace=True)\n",
    "df.isnull().sum()\n",
    "df.shape"
   ]
  },
  {
   "cell_type": "code",
   "execution_count": 242,
   "id": "a55ca967-12f8-4fc1-909e-9f69208defef",
   "metadata": {},
   "outputs": [
    {
     "data": {
      "image/png": "[encoded data removed]",
      "text/plain": [
       "<Figure size 1200x600 with 1 Axes>"
      ]
     },
     "metadata": {},
     "output_type": "display_data"
    }
   ],
   "source": [
    "# Visualize the distribution of Critic_Score and User_Score to decide how to fill in the missing values\n",
    "plt.figure(figsize=(12, 6))\n",
    "plt.hist(df['Critic_Score'].dropna(), bins=30, color='blue', alpha=0.7, label='Critic_Score')\n",
    "plt.hist(pd.to_numeric(df['User_Score'], errors='coerce').dropna(), bins=30, color='orange', alpha=0.7, label='User_Score')\n",
    "plt.title('Distribution of Critic_Score and User_Score')\n",
    "plt.xlabel('Score')\n",
    "plt.ylabel('Frequency')\n",
    "plt.legend()\n",
    "plt.show()"
   ]
  },
  {
   "cell_type": "markdown",
   "id": "d42f5e87-3257-4365-9865-ec5e536cd3c8",
   "metadata": {
    "scrolled": true
   },
   "source": [
    "Based on the distribution of data, using the median would be a good choice. "
   ]
  },
  {
   "cell_type": "code",
   "execution_count": 244,
   "id": "9db5d1c1-1ff0-4f13-8e17-df9b3b64669e",
   "metadata": {},
   "outputs": [
    {
     "name": "stdout",
     "output_type": "stream",
     "text": [
      "\n",
      "Dataset info after handling missing values and dropping rows:\n",
      "<class 'pandas.core.frame.DataFrame'>\n",
      "Index: 7877 entries, 0 to 16706\n",
      "Data columns (total 9 columns):\n",
      " #   Column           Non-Null Count  Dtype  \n",
      "---  ------           --------------  -----  \n",
      " 0   Platform         7877 non-null   object \n",
      " 1   Year_of_Release  7877 non-null   float64\n",
      " 2   Genre            7877 non-null   object \n",
      " 3   Publisher        7877 non-null   object \n",
      " 4   Global_Sales     7877 non-null   float64\n",
      " 5   Critic_Score     7877 non-null   float64\n",
      " 6   User_Score       7877 non-null   float64\n",
      " 7   Developer        7877 non-null   object \n",
      " 8   Rating           7877 non-null   object \n",
      "dtypes: float64(4), object(5)\n",
      "memory usage: 615.4+ KB\n"
     ]
    },
    {
     "data": {
      "text/html": [
       "<div>\n",
       "<style scoped>\n",
       "    .dataframe tbody tr th:only-of-type {\n",
       "        vertical-align: middle;\n",
       "    }\n",
       "\n",
       "    .dataframe tbody tr th {\n",
       "        vertical-align: top;\n",
       "    }\n",
       "\n",
       "    .dataframe thead th {\n",
       "        text-align: right;\n",
       "    }\n",
       "</style>\n",
       "<table border=\"1\" class=\"dataframe\">\n",
       "  <thead>\n",
       "    <tr style=\"text-align: right;\">\n",
       "      <th></th>\n",
       "      <th>Platform</th>\n",
       "      <th>Year_of_Release</th>\n",
       "      <th>Genre</th>\n",
       "      <th>Publisher</th>\n",
       "      <th>Global_Sales</th>\n",
       "      <th>Critic_Score</th>\n",
       "      <th>User_Score</th>\n",
       "      <th>Developer</th>\n",
       "      <th>Rating</th>\n",
       "    </tr>\n",
       "  </thead>\n",
       "  <tbody>\n",
       "    <tr>\n",
       "      <th>0</th>\n",
       "      <td>Wii</td>\n",
       "      <td>2006.0</td>\n",
       "      <td>Sports</td>\n",
       "      <td>Nintendo</td>\n",
       "      <td>82.53</td>\n",
       "      <td>76.0</td>\n",
       "      <td>8.0</td>\n",
       "      <td>Nintendo</td>\n",
       "      <td>E</td>\n",
       "    </tr>\n",
       "    <tr>\n",
       "      <th>2</th>\n",
       "      <td>Wii</td>\n",
       "      <td>2008.0</td>\n",
       "      <td>Racing</td>\n",
       "      <td>Nintendo</td>\n",
       "      <td>35.52</td>\n",
       "      <td>82.0</td>\n",
       "      <td>8.3</td>\n",
       "      <td>Nintendo</td>\n",
       "      <td>E</td>\n",
       "    </tr>\n",
       "    <tr>\n",
       "      <th>3</th>\n",
       "      <td>Wii</td>\n",
       "      <td>2009.0</td>\n",
       "      <td>Sports</td>\n",
       "      <td>Nintendo</td>\n",
       "      <td>32.77</td>\n",
       "      <td>80.0</td>\n",
       "      <td>8.0</td>\n",
       "      <td>Nintendo</td>\n",
       "      <td>E</td>\n",
       "    </tr>\n",
       "    <tr>\n",
       "      <th>6</th>\n",
       "      <td>DS</td>\n",
       "      <td>2006.0</td>\n",
       "      <td>Platform</td>\n",
       "      <td>Nintendo</td>\n",
       "      <td>29.80</td>\n",
       "      <td>89.0</td>\n",
       "      <td>8.5</td>\n",
       "      <td>Nintendo</td>\n",
       "      <td>E</td>\n",
       "    </tr>\n",
       "    <tr>\n",
       "      <th>7</th>\n",
       "      <td>Wii</td>\n",
       "      <td>2006.0</td>\n",
       "      <td>Misc</td>\n",
       "      <td>Nintendo</td>\n",
       "      <td>28.92</td>\n",
       "      <td>58.0</td>\n",
       "      <td>6.6</td>\n",
       "      <td>Nintendo</td>\n",
       "      <td>E</td>\n",
       "    </tr>\n",
       "  </tbody>\n",
       "</table>\n",
       "</div>"
      ],
      "text/plain": [
       "  Platform  Year_of_Release     Genre Publisher  Global_Sales  Critic_Score  \\\n",
       "0      Wii           2006.0    Sports  Nintendo         82.53          76.0   \n",
       "2      Wii           2008.0    Racing  Nintendo         35.52          82.0   \n",
       "3      Wii           2009.0    Sports  Nintendo         32.77          80.0   \n",
       "6       DS           2006.0  Platform  Nintendo         29.80          89.0   \n",
       "7      Wii           2006.0      Misc  Nintendo         28.92          58.0   \n",
       "\n",
       "   User_Score Developer Rating  \n",
       "0         8.0  Nintendo      E  \n",
       "2         8.3  Nintendo      E  \n",
       "3         8.0  Nintendo      E  \n",
       "6         8.5  Nintendo      E  \n",
       "7         6.6  Nintendo      E  "
      ]
     },
     "execution_count": 244,
     "metadata": {},
     "output_type": "execute_result"
    }
   ],
   "source": [
    "# Impute missing `Critic_Score` and `User_Score` with the median\n",
    "df['Critic_Score'] = df['Critic_Score'].fillna(df['Critic_Score'].median())\n",
    "df['User_Score'] = pd.to_numeric(df['User_Score'], errors='coerce')  # Convert \"tbd\" to NaN\n",
    "df['User_Score'] = df['User_Score'].fillna(df['User_Score'].median())\n",
    "\n",
    "# Handle categorical `Rating` by filling with the mode\n",
    "df['Rating'] = df['Rating'].fillna(df['Rating'].mode()[0])\n",
    "\n",
    "# Drop rows with missing `Year_of_Release`, `Genre`, and `Publisher`\n",
    "df = df.dropna(subset=['Year_of_Release', 'Genre', 'Publisher'])\n",
    "\n",
    "# Verify changes in the dataset\n",
    "print(\"\\nDataset info after handling missing values and dropping rows:\")\n",
    "df.info()\n",
    "df.shape\n",
    "df.head()"
   ]
  },
  {
   "cell_type": "code",
   "execution_count": 245,
   "id": "72885ec8-311b-4ea4-bbf9-89dbe8e8c9ba",
   "metadata": {
    "scrolled": true
   },
   "outputs": [
    {
     "data": {
      "image/png": "[encoded data removed]",
      "text/plain": [
       "<Figure size 1500x1000 with 3 Axes>"
      ]
     },
     "metadata": {},
     "output_type": "display_data"
    },
    {
     "data": {
      "text/plain": [
       "(7877, 9)"
      ]
     },
     "execution_count": 245,
     "metadata": {},
     "output_type": "execute_result"
    }
   ],
   "source": [
    "# List of numerical columns to check for outliers\n",
    "numerical_columns = ['Critic_Score', 'User_Score', 'Global_Sales']\n",
    "\n",
    "# Generate boxplots for each numerical column\n",
    "plt.figure(figsize=(15, 10))\n",
    "for i, col in enumerate(numerical_columns, start=1):\n",
    "    if col in df.columns:\n",
    "        plt.subplot(3, 3, i)  # Create subplots (3 rows x 3 columns for 9 plots)\n",
    "        plt.boxplot(df[col].dropna(), vert=False, patch_artist=True, boxprops=dict(facecolor=\"skyblue\"))\n",
    "        plt.title(f'Boxplot of {col}')\n",
    "        plt.xlabel(col)\n",
    "plt.tight_layout()\n",
    "plt.show()\n",
    "df.shape"
   ]
  },
  {
   "cell_type": "code",
   "execution_count": 246,
   "id": "24fbb3c0-142a-4c2a-a3b2-67b8f60265b2",
   "metadata": {},
   "outputs": [
    {
     "name": "stdout",
     "output_type": "stream",
     "text": [
      "\n",
      "Dataset info after removing outliers:\n",
      "<class 'pandas.core.frame.DataFrame'>\n",
      "Index: 7868 entries, 2 to 16706\n",
      "Data columns (total 9 columns):\n",
      " #   Column           Non-Null Count  Dtype  \n",
      "---  ------           --------------  -----  \n",
      " 0   Platform         7868 non-null   object \n",
      " 1   Year_of_Release  7868 non-null   float64\n",
      " 2   Genre            7868 non-null   object \n",
      " 3   Publisher        7868 non-null   object \n",
      " 4   Global_Sales     7868 non-null   float64\n",
      " 5   Critic_Score     7868 non-null   float64\n",
      " 6   User_Score       7868 non-null   float64\n",
      " 7   Developer        7868 non-null   object \n",
      " 8   Rating           7868 non-null   object \n",
      "dtypes: float64(4), object(5)\n",
      "memory usage: 614.7+ KB\n"
     ]
    },
    {
     "data": {
      "text/plain": [
       "(7868, 9)"
      ]
     },
     "execution_count": 246,
     "metadata": {},
     "output_type": "execute_result"
    }
   ],
   "source": [
    "# Remove outliers for Critic_Score\n",
    "df = df[(df['Critic_Score'] >= 20) & (df['Critic_Score'] <= 100)]\n",
    "\n",
    "# Remove outliers for Global_Sales\n",
    "df = df[df['Global_Sales'] <= 80]\n",
    "\n",
    "# Verify dataset after removing outliers\n",
    "print(\"\\nDataset info after removing outliers:\")\n",
    "df.info()\n",
    "\n",
    "df.shape"
   ]
  },
  {
   "cell_type": "code",
   "execution_count": null,
   "id": "aac85891-e120-4ec1-b2c8-c24c8899ffc8",
   "metadata": {},
   "outputs": [],
   "source": []
  }
 ],
 "metadata": {
  "kernelspec": {
   "display_name": "Python 3 (ipykernel)",
   "language": "python",
   "name": "python3"
  },
  "language_info": {
   "codemirror_mode": {
    "name": "ipython",
    "version": 3
   },
   "file_extension": ".py",
   "mimetype": "text/x-python",
   "name": "python",
   "nbconvert_exporter": "python",
   "pygments_lexer": "ipython3",
   "version": "3.12.4"
  }
 },
 "nbformat": 4,
 "nbformat_minor": 5
}
